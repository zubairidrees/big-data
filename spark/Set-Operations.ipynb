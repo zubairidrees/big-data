{
 "cells": [
  {
   "cell_type": "markdown",
   "metadata": {},
   "source": [
    "# Set Operations "
   ]
  },
  {
   "cell_type": "code",
   "execution_count": 3,
   "metadata": {},
   "outputs": [
    {
     "name": "stdout",
     "output_type": "stream",
     "text": [
      "(20916, u'20916,2013-12-01 00:00:00.0,11503,CLOSED')\n",
      "(20917, u'20917,2013-12-01 00:00:00.0,10441,PENDING_PAYMENT')\n",
      "(20918, u'20918,2013-12-01 00:00:00.0,1664,PENDING')\n",
      "(20919, u'20919,2013-12-01 00:00:00.0,383,COMPLETE')\n",
      "(20920, u'20920,2013-12-01 00:00:00.0,4799,PROCESSING')\n",
      "(1, u'1,1,957,1,299.98,299.98')\n",
      "(2, u'2,2,1073,1,199.99,199.99')\n",
      "(2, u'3,2,502,5,250.0,50.0')\n",
      "(2, u'4,2,403,1,129.99,129.99')\n",
      "(4, u'5,4,897,2,49.98,24.99')\n",
      "169675,67864,1014,2,99.96,49.98\n",
      "169676,67864,1073,1,199.99,199.99\n",
      "169684,67868,1004,1,399.98,399.98\n"
     ]
    }
   ],
   "source": [
    "# Prepare data - subsets of products for 2013-12 & 2014-12\n",
    "\n",
    "orders = sc.textFile(\"retail_db/orders\")\n",
    "orderItems = sc.textFile(\"retail_db/order_items\")\n",
    "\n",
    "orders201312 = orders.filter(lambda o: o.split(\",\")[1][:7] == \"2013-12\").map(lambda o: (int(o.split(\",\")[0]),o))\n",
    "for i in orders201312.take(5):print i\n",
    "\n",
    "\n",
    "orders201412 = orders.filter(lambda o: i.split(\",\")[1][:7] == \"2014-12\").map(lambda o: (int(o.split(\",\")[0]),o))\n",
    "\n",
    "orderItemsMap = orderItems.map(lambda oi: (int(oi.split(\",\")[1]),oi))\n",
    "for i in orderItemsMap.take(5):print i\n",
    "\n",
    "#orders201312.join(orderItemsMap)    \n",
    "#(67864, (u'67864,2013-12-01 00:00:00.0,9393,PENDING_PAYMENT', u'169675,67864,1014,2,99.96,49.98'))    \n",
    "ordersItems201312 = orders201312.join(orderItemsMap).map(lambda oi: oi[1][1])\n",
    "ordersItems201412 = orders201412.join(orderItemsMap).map(lambda oi: oi[1][1])\n",
    "\n",
    "for i in ordersItems201312.take(3):print i\n",
    "        \n",
    "\n",
    "\n"
   ]
  },
  {
   "cell_type": "code",
   "execution_count": 4,
   "metadata": {
    "scrolled": true
   },
   "outputs": [
    {
     "name": "stdout",
     "output_type": "stream",
     "text": [
      "('allproducts count', 18550)\n",
      "('alldistinctproducts count', 100)\n",
      "[1073, 1059, 1014, 1004, 982, 981, 977, 957, 926, 924, 917, 906, 905, 897, 893, 886, 885, 860, 858, 845, 835, 828, 825, 823, 822, 821, 818, 810, 804, 797, 793, 792, 786, 778, 777, 775, 773, 771, 768, 743, 730, 728, 725, 724, 715, 705, 703, 691, 677, 671, 666, 652, 647, 646, 642, 627, 625, 607, 572, 567, 565, 564, 502, 403, 365, 364, 359, 311, 306, 305, 303, 295, 282, 278, 276, 273, 258, 251, 249, 235, 226, 216, 208, 203, 191, 172, 135, 134, 127, 116, 93, 78, 61, 60, 58, 44, 37, 35, 24, 19]\n"
     ]
    }
   ],
   "source": [
    "# Get product ids sold in 2013-12 2013-07\n",
    "\n",
    "orders = sc.textFile(\"retail_db/orders\")\n",
    "orderItems = sc.textFile(\"retail_db/order_items\")\n",
    "\n",
    "orders201312 = orders.filter(lambda o: o.split(\",\")[1][:7] == \"2013-12\").map(lambda o: (int(o.split(\",\")[0]),o))\n",
    "#for i in orders201312.take(5):print i\n",
    "\n",
    "\n",
    "orders201307 = orders.filter(lambda o: o.split(\",\")[1][:7] == \"2013-07\").map(lambda o: (int(o.split(\",\")[0]),o))\n",
    "\n",
    "orderItemsMap = orderItems.map(lambda oi: (int(oi.split(\",\")[1]),oi))\n",
    "#for i in orderItemsMap.take(5):print i\n",
    "\n",
    "#orders201312.join(orderItemsMap)    \n",
    "#(67864, (u'67864,2013-12-01 00:00:00.0,9393,PENDING_PAYMENT', u'169675,67864,1014,2,99.96,49.98'))    \n",
    "ordersItems201312 = orders201312.join(orderItemsMap).map(lambda oi: oi[1][1])\n",
    "ordersItems201307 = orders201307.join(orderItemsMap).map(lambda oi: oi[1][1])\n",
    "\n",
    "#for i in ordersItems201312.take(3):print i\n",
    "\n",
    "productIds201312 = ordersItems201312.map(lambda oi: int( oi.split(\",\")[2] ))\n",
    "productIds201307 = ordersItems201307.map(lambda oi: int( oi.split(\",\")[2] ))\n",
    "    \n",
    "allproducts =  productIds201312.union(productIds201307) \n",
    "\n",
    "print (\"allproducts count\",allproducts.count())\n",
    "\n",
    "alldistinctproducts =  allproducts.distinct()\n",
    "\n",
    "print (\"alldistinctproducts count\",alldistinctproducts.count())\n",
    "\n",
    "sortedAllProductsIds = sorted(alldistinctproducts.collect(),reverse=True)\n",
    "print sortedAllProductsIds\n",
    "\n",
    "#help(sorted)\n",
    "\n",
    "def printRDD(l,noOfRecords):\n",
    "    for i in l.take(noOfRecords):print i\n",
    "        \n",
    "\n",
    "     \n",
    "    "
   ]
  },
  {
   "cell_type": "code",
   "execution_count": 28,
   "metadata": {},
   "outputs": [
    {
     "name": "stdout",
     "output_type": "stream",
     "text": [
      "3821\n",
      "14729\n",
      "18550\n",
      "87\n",
      "1\n"
     ]
    }
   ],
   "source": [
    "#Intersection Get Product Id sale in 2013-07 - 2013-12\n",
    "\n",
    "orders = sc.textFile(\"retail_db/orders\")\n",
    "orderItems = sc.textFile(\"retail_db/order_items\")\n",
    "\n",
    "\n",
    "order201307 = orders.filter(lambda o: o.split(\",\")[1][:7] == \"2013-07\")\n",
    "order201312 = orders.filter(lambda o: o.split(\",\")[1][:7] == \"2013-12\")\n",
    "\n",
    "orderMap201307 = order201307.map(lambda o: ( int(o.split(\",\")[0] ),o ) )\n",
    "orderMap201312 = order201312.map(lambda o: ( int(o.split(\",\")[0] ),o ) )\n",
    "#printRDD(orderMap201307,3)\n",
    " \n",
    "\n",
    "orderItemsMap = orderItems.map(lambda oi: ( int(oi.split(\",\")[1] ),oi ) )\n",
    "#printRDD(orderItemsMap,3)\n",
    "\n",
    "\n",
    "order201307Join = orderMap201307.join(orderItemsMap)\n",
    "order201312Join = orderMap201312.join(orderItemsMap)\n",
    "\n",
    "product201307 = order201307Join.map(lambda o: int(o[1][1].split(\",\")[2]))\n",
    "product201312 = order201312Join.map(lambda o: int(o[1][1].split(\",\")[2]))\n",
    "print product201307.count()\n",
    "print product201312.count()\n",
    "\n",
    "allproduct = product201307.union(product201312)\n",
    "print allproduct.count()\n",
    "\n",
    "# Get common products\n",
    "intersectProducts = product201312.intersection(product201307)\n",
    "print intersectProducts.count()\n",
    "\n",
    "# Get product sold in 2013 07 but not in 2013 12\n",
    "productsonlyin201307 = product201307.subtract(product201312).distinct()\n",
    "print subtractProducts.count()\n",
    "\n",
    "productsonlyin201312 = product201312.subtract(product201307).distinct()\n",
    "\n",
    "# Get product only sold in 201307 201312  \n",
    "productsonlyin201307.union(productsonlyin201312)\n",
    "\n",
    "#printRDD(allproduct,4)\n",
    "\n",
    "#printRDD(order201307Join,4)\n",
    "\n",
    "#printRDD(order201312Join,4)   \n",
    "#help(sc.union)\n"
   ]
  },
  {
   "cell_type": "code",
   "execution_count": 5,
   "metadata": {},
   "outputs": [
    {
     "name": "stdout",
     "output_type": "stream",
     "text": [
      "1,2013-07-25 00:00:00.0,11599,CLOSED\n",
      "1\n"
     ]
    }
   ],
   "source": [
    "orders = sc.textFile(\"retail_db/orders\")\n",
    "orderItems = sc.textFile(\"retail_db/order_items\")\n",
    "\n",
    "for i in orders.take(1):print i\n",
    "    \n",
    "for i in orderItems.take(1):print i.split(\",\")[1]\n",
    "    \n",
    "    "
   ]
  },
  {
   "cell_type": "code",
   "execution_count": null,
   "metadata": {},
   "outputs": [],
   "source": []
  }
 ],
 "metadata": {
  "kernelspec": {
   "display_name": "Python 2",
   "language": "python",
   "name": "python2"
  },
  "language_info": {
   "codemirror_mode": {
    "name": "ipython",
    "version": 2
   },
   "file_extension": ".py",
   "mimetype": "text/x-python",
   "name": "python",
   "nbconvert_exporter": "python",
   "pygments_lexer": "ipython2",
   "version": "2.7.15rc1"
  }
 },
 "nbformat": 4,
 "nbformat_minor": 2
}
