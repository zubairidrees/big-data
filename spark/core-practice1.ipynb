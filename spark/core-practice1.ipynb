{
 "cells": [
  {
   "cell_type": "code",
   "execution_count": 1,
   "metadata": {},
   "outputs": [
    {
     "data": {
      "text/plain": [
       "''"
      ]
     },
     "execution_count": 1,
     "metadata": {},
     "output_type": "execute_result"
    }
   ],
   "source": [
    "sc"
   ]
  },
  {
   "cell_type": "markdown",
   "metadata": {},
   "source": [
    "# Use retail_db\n",
    "### Problem Statement \n",
    "#####          Get Daily revenue by product considering completed and closed orders\n",
    "#####          Data need to be sorted by ascending order by date and then descending order by revenue completed for each product for each day\n",
    "#####          Data should be delimeted by \",\" in this order [order_date , daily revenue_per_product , product_name ]\n",
    "\n",
    "### Final output need to be stored in avro & text format\n",
    "\n"
   ]
  },
  {
   "cell_type": "code",
   "execution_count": 1,
   "metadata": {
    "scrolled": true
   },
   "outputs": [
    {
     "name": "stdout",
     "output_type": "stream",
     "text": [
      "1,2013-07-25 00:00:00.0,11599,CLOSED\n",
      "1,1,957,1,299.98,299.98\n",
      "+------------+\n",
      "|databaseName|\n",
      "+------------+\n",
      "|     default|\n",
      "+------------+\n",
      "\n"
     ]
    }
   ],
   "source": [
    "orders = sc.textFile(\"retail_db/orders\")\n",
    "orderItems = sc.textFile(\"retail_db/order_items\")\n",
    "\n",
    "for i in orders.take(1):print i\n",
    "\n",
    "for i in orderItems.take(1):print i    \n",
    "    \n",
    "#print orders.map(lambda o:o.split(\",\")[3]).distinct().collect()    \n",
    "\n",
    "ordersFiltered = orders.filter(lambda o: o.split(\",\")[3] in [\"COMPLETE\",\"CLOSED\"] )\n",
    "\n",
    "ordersMap = ordersFiltered.map(lambda o: ( int(o.split(\",\")[0]) , o.split(\",\")[1]) )\n",
    "orderItemsMap = orderItems.map(lambda oi: ( int(oi.split(\",\")[1]), ( int(oi.split(\",\")[2]) ,float(oi.split(\",\")[4]) ) ) )\n",
    "                               \n",
    "ordersOrderItemsJoin = ordersMap.join(orderItemsMap)\n",
    "#print ordersOrderItemsJoin.take(1)\n",
    "#[(65536, (u'2014-05-16 00:00:00.0', (957, 299.98)))]\n",
    "\n",
    "orderJoinMap = ordersOrderItemsJoin.map(lambda k: ( (k[1][0],k[1][1][0]) , k[1][1][1] ) )\n",
    "#print orderJoinMap.take(1)\n",
    "#[((u'2014-05-16 00:00:00.0', 957), 299.98)]\n",
    "\n",
    "revenuePerProduct = orderJoinMap.reduceByKey(lambda x,y:x+y)\n",
    "#print revenuePerProduct.take(5)\n",
    "\n",
    "orderProductMap = revenuePerProduct.map(lambda r: (r[0][1], r))\n",
    "\n",
    "products = open(\"/home/zubairidrees/hadoop-2.7.3/data/retail_db/products/part-00000\").read().splitlines()\n",
    "productRDD = sc.parallelize(products)\n",
    "productMap = productRDD.map(lambda p: (int(p.split(\",\")[0]),p.split(\",\")[2]  ))\n",
    "\n",
    "ordersProductJoin = orderProductMap.join(productMap)\n",
    "\n",
    "#print ordersProductJoin.take(1)\n",
    "#[ (24,  ( ( (u'2013-12-04 00:00:00.0', 24), 159.98), 'Elevation Training Mask 2.0'))]\n",
    "productRevenueByDate = ordersProductJoin.map(lambda op: ((op[1][0][0][0], -op[1][0][1]), \\\n",
    "                                                         ( op[1][0][0][0]+ \",\"+str( op[1][0][1]) +\",\"+ op[1][1] ) ) )\n",
    "\n",
    "#print productRevenueByDate.take(1)\n",
    "\n",
    "#print \"Sorted Product\"\n",
    "#sortedProducts = productRevenueByDate.sortByKey().map(lambda s: s[1])\n",
    "#for i in sortedProducts.take(2): print i\n",
    " \n",
    "#sortedProducts. \\\n",
    "#coalesce(2). \\   in order to in 2 files\n",
    "#saveAsTextFile(\"/user/zubairdrees/daily_revenue_by_product\")\n",
    "#productsDF = sortedProducts.toDF( schema = [\"date\", \"revenue\", \"product_name\"] )    \n",
    "#print sc.textFile(\"/user/zubairdrees/daily_revenue_by_product\").take(5)\n",
    "\n",
    "sqlContext.sql(\"show databases\").show()\n",
    "\n",
    "\n"
   ]
  },
  {
   "cell_type": "code",
   "execution_count": null,
   "metadata": {},
   "outputs": [],
   "source": []
  }
 ],
 "metadata": {
  "kernelspec": {
   "display_name": "Python 2",
   "language": "python",
   "name": "python2"
  },
  "language_info": {
   "codemirror_mode": {
    "name": "ipython",
    "version": 2
   },
   "file_extension": ".py",
   "mimetype": "text/x-python",
   "name": "python",
   "nbconvert_exporter": "python",
   "pygments_lexer": "ipython2",
   "version": "2.7.15rc1"
  }
 },
 "nbformat": 4,
 "nbformat_minor": 2
}
