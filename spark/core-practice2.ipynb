{
 "cells": [
  {
   "cell_type": "code",
   "execution_count": 2,
   "metadata": {},
   "outputs": [
    {
     "data": {
      "text/plain": [
       "''"
      ]
     },
     "execution_count": 2,
     "metadata": {},
     "output_type": "execute_result"
    }
   ],
   "source": [
    "sc\n"
   ]
  },
  {
   "cell_type": "code",
   "execution_count": 3,
   "metadata": {},
   "outputs": [
    {
     "ename": "NameError",
     "evalue": "name 'sc' is not defined",
     "output_type": "error",
     "traceback": [
      "\u001b[0;31m---------------------------------------------------------------------------\u001b[0m",
      "\u001b[0;31mNameError\u001b[0m                                 Traceback (most recent call last)",
      "\u001b[0;32m<ipython-input-3-fa5da74248fb>\u001b[0m in \u001b[0;36m<module>\u001b[0;34m()\u001b[0m\n\u001b[0;32m----> 1\u001b[0;31m \u001b[0morderItems\u001b[0m \u001b[0;34m=\u001b[0m \u001b[0msc\u001b[0m\u001b[0;34m.\u001b[0m\u001b[0mtextFile\u001b[0m\u001b[0;34m(\u001b[0m\u001b[0;34m\"retail_db/order_items\"\u001b[0m\u001b[0;34m)\u001b[0m\u001b[0;34m\u001b[0m\u001b[0m\n\u001b[0m",
      "\u001b[0;31mNameError\u001b[0m: name 'sc' is not defined"
     ]
    }
   ],
   "source": [
    "orderItems = sc.textFile(\"retail_db/order_items\")"
   ]
  },
  {
   "cell_type": "code",
   "execution_count": 59,
   "metadata": {},
   "outputs": [],
   "source": [
    "orderItemsMap = orderItems.map( lambda oi: (float(oi.split(\",\")[1]) ,  float(oi.split(\",\")[4])))"
   ]
  },
  {
   "cell_type": "markdown",
   "metadata": {},
   "source": [
    "orderItemsMap = orderItems.map( lambda a: a.split(\",\")[4])"
   ]
  },
  {
   "cell_type": "code",
   "execution_count": 60,
   "metadata": {},
   "outputs": [],
   "source": [
    "reducedOrderItems = orderItemsMap.reduceByKey(lambda curr , next: curr + next)\n"
   ]
  },
  {
   "cell_type": "code",
   "execution_count": 202,
   "metadata": {},
   "outputs": [
    {
     "name": "stdout",
     "output_type": "stream",
     "text": [
      "(32768.0, 1029.94)\n"
     ]
    }
   ],
   "source": [
    "for s in reducedOrderItems.take(1): print(s)"
   ]
  },
  {
   "cell_type": "code",
   "execution_count": 63,
   "metadata": {},
   "outputs": [
    {
     "data": {
      "text/plain": [
       "pyspark.rdd.RDD"
      ]
     },
     "execution_count": 63,
     "metadata": {},
     "output_type": "execute_result"
    }
   ],
   "source": [
    "l = range(1,10000)\n",
    "lRDD = sc.parallelize(l)\n",
    "type(lRDD)"
   ]
  },
  {
   "cell_type": "code",
   "execution_count": 201,
   "metadata": {},
   "outputs": [
    {
     "data": {
      "text/plain": [
       "['1,2,Quest Q64 10 FT. x 10 FT. Slant Leg Instant U,,59.98,http://images.acmesports.sports/Quest+Q64+10+FT.+x+10+FT.+Slant+Leg+Instant+Up+Canopy']"
      ]
     },
     "execution_count": 201,
     "metadata": {},
     "output_type": "execute_result"
    }
   ],
   "source": [
    "productsRaw = open(\"/home/zubairidrees/hadoop-2.7.3/data/retail_db/products/part-00000\").read().splitlines()\n",
    "type(productsRaw)\n",
    "productsRDD = sc.parallelize(productsRaw)\n",
    "productsRDD.take(1)"
   ]
  },
  {
   "cell_type": "code",
   "execution_count": 200,
   "metadata": {},
   "outputs": [
    {
     "data": {
      "text/plain": [
       "<pyspark.sql.context.SQLContext at 0x7fec4da0dfd0>"
      ]
     },
     "execution_count": 200,
     "metadata": {},
     "output_type": "execute_result"
    }
   ],
   "source": [
    "sqlContext\n",
    "help(sqlContext)"
   ]
  },
  {
   "cell_type": "code",
   "execution_count": 199,
   "metadata": {},
   "outputs": [],
   "source": [
    "#spark 1.6\n",
    "#sqlContext.load(\"/retail_db_json/order_items\",\"json\").show()\n",
    "\n",
    "#spark 2\n",
    "spark.read.load(\"/user/zubairidrees/retail_db/json/retail_db_json/order_items\", format=\"json\").show()\n",
    "\n",
    "#sqlContext.read.json(\"/user/zubairidrees/retail_db/json/retail_db_json/order_items/part-r-00000-6b83977e-3f20-404b-9b5f-29376ab1419e\").show()\n",
    "spark.read.json(\"/user/zubairidrees/retail_db/json/retail_db_json/order_items\").show()\n"
   ]
  },
  {
   "cell_type": "markdown",
   "metadata": {},
   "source": [
    "## String Manipulation\n"
   ]
  },
  {
   "cell_type": "code",
   "execution_count": 87,
   "metadata": {},
   "outputs": [
    {
     "data": {
      "text/plain": [
       "[u'1,2013-07-25 00:00:00.0,11599,CLOSED']"
      ]
     },
     "execution_count": 87,
     "metadata": {},
     "output_type": "execute_result"
    }
   ],
   "source": [
    "orders = sc.textFile(\"retail_db/retail_db/orders\")\n",
    "orders.take(1)"
   ]
  },
  {
   "cell_type": "code",
   "execution_count": 102,
   "metadata": {},
   "outputs": [
    {
     "name": "stdout",
     "output_type": "stream",
     "text": [
      "Concat String with int1\n"
     ]
    },
    {
     "data": {
      "text/plain": [
       "u'20130725'"
      ]
     },
     "execution_count": 102,
     "metadata": {},
     "output_type": "execute_result"
    }
   ],
   "source": [
    "s = orders.first()\n",
    "type(s)\n",
    "s[2:13]\n",
    "len(s)\n",
    "print(\"Concat String with int\" + str(1))\n",
    "\n",
    "\n"
   ]
  },
  {
   "cell_type": "markdown",
   "metadata": {},
   "source": [
    "## Convert Date YYYY-MM-DD into YYYYMMDD\n",
    "\n"
   ]
  },
  {
   "cell_type": "code",
   "execution_count": 103,
   "metadata": {},
   "outputs": [
    {
     "data": {
      "text/plain": [
       "u'20130725'"
      ]
     },
     "execution_count": 103,
     "metadata": {},
     "output_type": "execute_result"
    }
   ],
   "source": [
    "s.split(\",\")[1].split(\" \")[0].replace(\"-\",\"\")"
   ]
  },
  {
   "cell_type": "markdown",
   "metadata": {},
   "source": [
    "## map "
   ]
  },
  {
   "cell_type": "code",
   "execution_count": 203,
   "metadata": {},
   "outputs": [
    {
     "data": {
      "text/plain": [
       "[(1, 299.98)]"
      ]
     },
     "execution_count": 203,
     "metadata": {},
     "output_type": "execute_result"
    }
   ],
   "source": [
    "orders = sc.textFile(\"retail_db/retail_db/orders\")\n",
    "orders.map(lambda o: o.split(\",\")[1].split(\" \")[0].replace(\"-\",\"\")).take(10)\n",
    "orders.map(lambda o: o.split(\",\")[1].split(\" \")[0].replace(\"-\",\"\")).count()\n",
    "\n",
    "orderItems = sc.textFile(\"retail_db/retail_db/order_items\")\n",
    "orderItems.first()\n",
    "orderItems.map(lambda oi:( int(oi.split(\",\")[1]),float(oi.split(\",\")[5]) )).take(1)\n"
   ]
  },
  {
   "cell_type": "markdown",
   "metadata": {},
   "source": [
    "## flatMap"
   ]
  },
  {
   "cell_type": "code",
   "execution_count": 136,
   "metadata": {},
   "outputs": [
    {
     "name": "stdout",
     "output_type": "stream",
     "text": [
      "['How', 'are', 'you']\n",
      "['where', 'are', 'you']\n",
      "['How', 'is', 'the', 'things', 'going']\n",
      "How\n",
      "are\n",
      "you\n",
      "where\n",
      "are\n",
      "you\n",
      "How\n",
      "is\n",
      "the\n",
      "things\n",
      "going\n"
     ]
    }
   ],
   "source": [
    "linesList = [\"How are you\",\"where are you\",\"How is the things going\"]\n",
    "linesRDD = sc.parallelize(linesList)\n",
    "\n",
    "linesMap = linesRDD.map(lambda l :l.split(\" \")).collect()\n",
    "for i in linesMap: print i\n",
    "\n",
    "linesFlatMap = linesRDD.flatMap(lambda l :l.split(\" \")).collect()\n",
    "for i in linesFlatMap: print i\n",
    "\n"
   ]
  },
  {
   "cell_type": "markdown",
   "metadata": {},
   "source": [
    "## filter"
   ]
  },
  {
   "cell_type": "code",
   "execution_count": 204,
   "metadata": {},
   "outputs": [
    {
     "name": "stdout",
     "output_type": "stream",
     "text": [
      "1,2013-07-25 00:00:00.0,11599,CLOSED\n",
      "25882,2014-01-01 00:00:00.0,4598,COMPLETE\n"
     ]
    }
   ],
   "source": [
    "orders = sc.textFile(\"retail_db/retail_db/orders\")\n",
    "\n",
    "ordersCompleted = orders.filter(lambda o: o.split(\",\")[3] == \"COMPLETE\" or o.split(\",\")[3] == \"CLOSED\").take(1)\n",
    "for i in ordersCompleted: print i\n",
    "    \n",
    "    \n",
    "#filter records of year 2014\n",
    "\n",
    "orders2014 = orders.filter(lambda o: \n",
    "                           (o.split(\",\")[3] in [ \"COMPLETE\", \"CLOSED\"]) and\n",
    "                           o.split(\",\")[1].split(\"-\")[0] == \"2014\").take(1)\n",
    "for i in orders2014: print i\n"
   ]
  },
  {
   "cell_type": "markdown",
   "metadata": {},
   "source": [
    "## Join"
   ]
  },
  {
   "cell_type": "code",
   "execution_count": 179,
   "metadata": {},
   "outputs": [
    {
     "name": "stdout",
     "output_type": "stream",
     "text": [
      "11452\n",
      "(43692, (u'PENDING_PAYMENT', None))\n"
     ]
    }
   ],
   "source": [
    "orders = sc.textFile(\"retail_db/retail_db/orders\")\n",
    "orderItems = sc.textFile(\"retail_db/retail_db/order_items\")\n",
    "\n",
    "ordersMap = orders.map(lambda o: (int(o.split(\",\")[0]) ,o.split(\",\")[3] ))\n",
    "\n",
    "orderItemsMap = orderItems.map(lambda oi: (int(oi.split(\",\")[1]) ,float(oi.split(\",\")[4]) ))\n",
    "\n",
    "ordersJoin = ordersMap.join(orderItemsMap)\n",
    "\n",
    "\n",
    "ordersLeftoin = ordersMap.leftOuterJoin(orderItemsMap)\n",
    "\n",
    "orderOuterLeftJoinFilter = ordersLeftoin.filter(lambda o: o[1][1] == None)\n",
    "print orderOuterLeftJoinFilter.count()\n",
    "for i in orderOuterLeftJoinFilter.take(1): print i\n"
   ]
  },
  {
   "cell_type": "markdown",
   "metadata": {},
   "source": [
    "## Reduce"
   ]
  },
  {
   "cell_type": "code",
   "execution_count": 198,
   "metadata": {},
   "outputs": [
    {
     "name": "stdout",
     "output_type": "stream",
     "text": [
      "579.98\n",
      "579.98\n",
      "129.99\n"
     ]
    }
   ],
   "source": [
    "orderItems = sc.textFile(\"retail_db/retail_db/order_items\")\n",
    "orderItemsFiltered = orderItems.filter(lambda oi: int(oi.split(\",\")[1]) == 2)\n",
    "\n",
    "\n",
    "orderItemsMap = orderItemsFiltered.map(lambda oi: float(oi.split(\",\")[4])) \n",
    "#for i in orderItemsMap.take(3): print i  \n",
    "orderItemsReduced = orderItemsMap.reduce(lambda curr , next : curr + next)\n",
    "print orderItemsReduced\n",
    "\n",
    "## using operator\n",
    "from operator import add\n",
    "orderItemsReduced = orderItemsMap.reduce(add)\n",
    "print orderItemsReduced\n",
    "\n",
    "##using if else in reduce\n",
    "##Find provided order id order item detail having minimum sub total\n",
    "\n",
    "orderItemsReduced = orderItemsMap.reduce(lambda curr , next : next if(curr > next) else curr)\n",
    "print orderItemsReduced\n",
    "\n",
    " \n"
   ]
  },
  {
   "cell_type": "markdown",
   "metadata": {},
   "source": [
    "## ReduceByKey / CountByKey / AggregateByKey"
   ]
  },
  {
   "cell_type": "markdown",
   "metadata": {},
   "source": [
    "# Count By Status"
   ]
  },
  {
   "cell_type": "code",
   "execution_count": 210,
   "metadata": {},
   "outputs": [
    {
     "name": "stdout",
     "output_type": "stream",
     "text": [
      "1,2013-07-25 00:00:00.0,11599,CLOSED\n",
      "(u'CLOSED', 1)\n",
      "defaultdict(<type 'int'>, {u'COMPLETE': 22899, u'PAYMENT_REVIEW': 729, u'PROCESSING': 8275, u'CANCELED': 1428, u'PENDING': 7610, u'CLOSED': 7556, u'PENDING_PAYMENT': 15030, u'SUSPECTED_FRAUD': 1558, u'ON_HOLD': 3798})\n"
     ]
    }
   ],
   "source": [
    "orders = sc.textFile(\"retail_db/retail_db/orders\")\n",
    "for i in orders.take(1):print i\n",
    "ordersStatusMap = orders.map(lambda o: (o.split(\",\")[3], 1) )\n",
    "for i in ordersStatusMap.take(1): print i\n",
    "    \n",
    "orderStatusCount = ordersStatusMap.countByKey();\n",
    "print orderStatusCount\n"
   ]
  },
  {
   "cell_type": "markdown",
   "metadata": {},
   "source": [
    "#### groupByKey don't use combiner & thats why iit is slow compare to reduceByKey & aggregateByKey\n",
    "#### groupByKey\n",
    "#### sum of (1-1000) -> 1 + 2 + 3 + 4 + 5 + 6 ......\n",
    "\n",
    "#### reduceByKey & aggregateByKey\n",
    "#### sum of (1-1000) -> sum(1,25) + sum(26,50)...\n",
    "\n",
    "#### in case of average we can't use reduceByKey & aggregateByKey in place of groupByKey as result will be\n",
    "#### different so if result of reduceByKey/aggregateByKey is same then only use it\n",
    "\n",
    "#### reduceByKey take one function & aggregateByKey take 2 functions one is for computing the intermidiate value & other for final value\n",
    "\n",
    "#### if reducer & combinor  is same then use reduceByKey\n",
    "\n",
    "\n"
   ]
  },
  {
   "cell_type": "code",
   "execution_count": 229,
   "metadata": {},
   "outputs": [
    {
     "name": "stdout",
     "output_type": "stream",
     "text": [
      "1,1,957,1,299.98,299.98\n",
      "(1, 299.98)\n",
      "(2, 199.99)\n",
      "(2, 250.0)\n",
      "PythonRDD[940] at RDD at PythonRDD.scala:48\n",
      "(2, <pyspark.resultiterable.ResultIterable object at 0x7fec4c59f950>)\n",
      "(4, <pyspark.resultiterable.ResultIterable object at 0x7fec4c54c210>)\n",
      "(8, <pyspark.resultiterable.ResultIterable object at 0x7fec4c54c990>)\n",
      "(10, <pyspark.resultiterable.ResultIterable object at 0x7fec4c54c8d0>)\n",
      "(12, <pyspark.resultiterable.ResultIterable object at 0x7fec4c54cf50>)\n",
      "2\n"
     ]
    },
    {
     "ename": "TypeError",
     "evalue": "'ResultIterable' object is not callable",
     "output_type": "error",
     "traceback": [
      "\u001b[0;31m---------------------------------------------------------------------------\u001b[0m",
      "\u001b[0;31mTypeError\u001b[0m                                 Traceback (most recent call last)",
      "\u001b[0;32m<ipython-input-229-f19d6776e581>\u001b[0m in \u001b[0;36m<module>\u001b[0;34m()\u001b[0m\n\u001b[1;32m     12\u001b[0m \u001b[0ml\u001b[0m \u001b[0;34m=\u001b[0m \u001b[0morderItemsGroupByKey\u001b[0m\u001b[0;34m.\u001b[0m\u001b[0mfirst\u001b[0m\u001b[0;34m(\u001b[0m\u001b[0;34m)\u001b[0m\u001b[0;34m\u001b[0m\u001b[0m\n\u001b[1;32m     13\u001b[0m \u001b[0;32mprint\u001b[0m \u001b[0ml\u001b[0m\u001b[0;34m[\u001b[0m\u001b[0;36m0\u001b[0m\u001b[0;34m]\u001b[0m\u001b[0;34m\u001b[0m\u001b[0m\n\u001b[0;32m---> 14\u001b[0;31m \u001b[0mlist\u001b[0m\u001b[0;34m(\u001b[0m\u001b[0ml\u001b[0m\u001b[0;34m[\u001b[0m\u001b[0;36m1\u001b[0m\u001b[0;34m]\u001b[0m\u001b[0;34m)\u001b[0m\u001b[0;34m\u001b[0m\u001b[0m\n\u001b[0m\u001b[1;32m     15\u001b[0m \u001b[0;34m\u001b[0m\u001b[0m\n\u001b[1;32m     16\u001b[0m \u001b[0;34m\u001b[0m\u001b[0m\n",
      "\u001b[0;31mTypeError\u001b[0m: 'ResultIterable' object is not callable"
     ]
    }
   ],
   "source": [
    "#Get Revenue for each order_id\n",
    "\n",
    "orderItems = sc.textFile(\"retail_db/retail_db/order_items\")\n",
    "for i in orderItems.take(1):print i\n",
    "\n",
    "orderItemsMap = orderItems.map(lambda oi: (int(oi.split(\",\")[1]), float(oi.split(\",\")[4])) )\n",
    "for i in orderItemsMap.take(3):print i\n",
    "    \n",
    "orderItemsGroupByKey = orderItemsMap.groupByKey();\n",
    "print orderItemsGroupByKey\n",
    "for i in orderItemsGroupByKey.take(5): print i\n",
    "l = orderItemsGroupByKey.first()\n",
    "print l[0]\n",
    "list(l[1])\n",
    "\n",
    "\n",
    "    "
   ]
  },
  {
   "cell_type": "code",
   "execution_count": null,
   "metadata": {},
   "outputs": [],
   "source": []
  }
 ],
 "metadata": {
  "kernelspec": {
   "display_name": "Python 2",
   "language": "python",
   "name": "python2"
  },
  "language_info": {
   "codemirror_mode": {
    "name": "ipython",
    "version": 2
   },
   "file_extension": ".py",
   "mimetype": "text/x-python",
   "name": "python",
   "nbconvert_exporter": "python",
   "pygments_lexer": "ipython2",
   "version": "2.7.15rc1"
  }
 },
 "nbformat": 4,
 "nbformat_minor": 2
}
