{
 "cells": [
  {
   "cell_type": "markdown",
   "metadata": {},
   "source": [
    "# Rankings"
   ]
  },
  {
   "cell_type": "markdown",
   "metadata": {},
   "source": [
    "### top vs takeOrdered"
   ]
  },
  {
   "cell_type": "code",
   "execution_count": 10,
   "metadata": {
    "scrolled": true
   },
   "outputs": [
    {
     "name": "stdout",
     "output_type": "stream",
     "text": [
      "208,10,SOLE E35 Elliptical,,1999.99,http://images.acmesports.sports/SOLE+E35+Elliptical\n",
      "66,4,SOLE F85 Treadmill,,1799.99,http://images.acmesports.sports/SOLE+F85+Treadmill\n",
      "199,10,SOLE F85 Treadmill,,1799.99,http://images.acmesports.sports/SOLE+F85+Treadmill\n",
      "496,22,SOLE F85 Treadmill,,1799.99,http://images.acmesports.sports/SOLE+F85+Treadmill\n",
      "1048,47,\"Spalding Beast 60\"\" Glass Portable Basketball \",,1099.99,http://images.acmesports.sports/Spalding+Beast+60%22+Glass+Portable+Basketball+Hoop\n",
      "38,3,Nike Men's Hypervenom Phantom Premium FG Socc,,0.0,http://images.acmesports.sports/Nike+Men%27s+Hypervenom+Phantom+Premium+FG+Soccer+Cleat\n",
      "388,18,Nike Men's Hypervenom Phantom Premium FG Socc,,0.0,http://images.acmesports.sports/Nike+Men%27s+Hypervenom+Phantom+Premium+FG+Soccer+Cleat\n"
     ]
    }
   ],
   "source": [
    "products = sc.textFile(\"retail_db/products\") \n",
    "filteredProducts = products.filter(lambda p: p.split(\",\")[4] != \"\")\n",
    "\n",
    "#for i in filteredProducts.take(3): print i\n",
    "\n",
    "#top will give data by default in descending order \n",
    "topNProducts =  filteredProducts.top(5, key = lambda k: float(k.split(\",\")[4] ) )   \n",
    "\n",
    "#negate the key value to get items in acsending order\n",
    "#topNProducts =  filteredProducts.top(5, key = lambda k: -float(k.split(\",\")[4] ) )   \n",
    "\n",
    "for i in topNProducts: print i\n",
    "\n",
    "#takeordered will give data by default in ascending order    \n",
    "takeOrderedProducts =  filteredProducts.takeOrdered(2, key = lambda k: float(k.split(\",\")[4] ) )   \n",
    "\n",
    "#negate the key value to get items in descending order\n",
    "#takeOrderedProducts =  filteredProducts.takeOrdered(5, key = lambda k: -float(k.split(\",\")[4] ) )   \n",
    "\n",
    "for i in takeOrderedProducts: print i    "
   ]
  },
  {
   "cell_type": "markdown",
   "metadata": {},
   "source": [
    "### Get top N products by price with in each category - By key Ranking -groupByKey and flatMap"
   ]
  },
  {
   "cell_type": "code",
   "execution_count": 15,
   "metadata": {},
   "outputs": [
    {
     "name": "stdout",
     "output_type": "stream",
     "text": [
      "(2, <pyspark.resultiterable.ResultIterable object at 0x7ff21796ddd0>)\n",
      "(4, <pyspark.resultiterable.ResultIterable object at 0x7ff21796d710>)\n",
      "16,2,Riddell Youth 360 Custom Football Helmet,,299.99,http://images.acmesports.sports/Riddell+Youth+360+Custom+Football+Helmet\n"
     ]
    }
   ],
   "source": [
    "products = sc.textFile(\"retail_db/products\") \n",
    "filteredProducts = products.filter(lambda p: p.split(\",\")[4] != \"\")\n",
    "\n",
    "productsMap = filteredProducts.map \\\n",
    "              (lambda p: (int(p.split(\",\")[1]) , p))\n",
    "\n",
    "productsGroupByCategoryId = productsMap.groupByKey();\n",
    "\n",
    "for i in productsGroupByCategoryId.take(2):print i\n",
    "\n",
    "topNProductsByCategory = productsGroupByCategoryId. \\\n",
    "flatMap(lambda p: sorted(p[1],key = lambda k: float(k.split(\",\")[4]) , reverse=True)[:3])\n",
    "\n",
    "for i in topNProductsByCategory.take(1):print i\n"
   ]
  },
  {
   "cell_type": "markdown",
   "metadata": {},
   "source": [
    "### Get all top N priced products by category "
   ]
  },
  {
   "cell_type": "code",
   "execution_count": 76,
   "metadata": {
    "scrolled": true
   },
   "outputs": [
    {
     "name": "stdout",
     "output_type": "stream",
     "text": [
      "1323,59,\"Nike Men's Home Game Jersey Cleveland Browns \",,100.0,http://images.acmesports.sports/Nike+Men%27s+Home+Game+Jersey+Cleveland+Browns+Johnny+Manziel...\n",
      "1330,59,Nike Men's Home Game Jersey Denver Broncos Pe,,100.0,http://images.acmesports.sports/Nike+Men%27s+Home+Game+Jersey+Denver+Broncos+Peyton+Manning...\n",
      "1331,59,Nike Men's Home Game Jersey Buffalo Bills Sam,,100.0,http://images.acmesports.sports/Nike+Men%27s+Home+Game+Jersey+Buffalo+Bills+Sammy+Watkins+%2314\n",
      "1332,59,Nike Men's Home Game Jersey San Francisco 49e,,100.0,http://images.acmesports.sports/Nike+Men%27s+Home+Game+Jersey+San+Francisco+49ers+Colin...\n",
      "1333,59,Nike Men's Home Game Jersey Pittsburgh Steele,,100.0,http://images.acmesports.sports/Nike+Men%27s+Home+Game+Jersey+Pittsburgh+Steelers+Ryan+Shazier...\n",
      "1334,59,Nike Men's Home Game Jersey New Orleans Saint,,100.0,http://images.acmesports.sports/Nike+Men%27s+Home+Game+Jersey+New+Orleans+Saints+Brandin+Cooks...\n",
      "1335,59,Nike Men's Andrew Luck Jersey - Home Game Ind,,100.0,http://images.acmesports.sports/Nike+Men%27s+Andrew+Luck+Jersey+-+Home+Game+Indianapolis+Colts\n",
      "1336,59,Nike Men's Home Game Jersey New York Giants O,,100.0,http://images.acmesports.sports/Nike+Men%27s+Home+Game+Jersey+New+York+Giants+Odell+Beckham...\n",
      "1337,59,Nike Men's Home Game Jersey Carolina Panthers,,100.0,http://images.acmesports.sports/Nike+Men%27s+Home+Game+Jersey+Carolina+Panthers+Kelvin...\n",
      "1338,59,Nike Men's Home Game Jersey Chicago Bears Jar,,100.0,http://images.acmesports.sports/Nike+Men%27s+Home+Game+Jersey+Chicago+Bears+Jared+Allen+%2369\n",
      "1339,59,Nike Men's Home Game Jersey New York Giants E,,100.0,http://images.acmesports.sports/Nike+Men%27s+Home+Game+Jersey+New+York+Giants+Eli+Manning+%2310\n",
      "1343,59,Nike Men's Home Game Jersey St. Louis Rams Mi,,100.0,http://images.acmesports.sports/Nike+Men%27s+Home+Game+Jersey+St.+Louis+Rams+Michael+Sam+%2396\n",
      "1344,59,Nike Men's Home Game Jersey St. Louis Rams Aa,,100.0,http://images.acmesports.sports/Nike+Men%27s+Home+Game+Jersey+St.+Louis+Rams+Aaron+Donald+%2399\n",
      "1345,59,Nike Men's Home Game Jersey St. Louis Rams Gr,,100.0,http://images.acmesports.sports/Nike+Men%27s+Home+Game+Jersey+St.+Louis+Rams+Greg+Robinson...\n",
      "1326,59,\"Nike Youth Home Game Jersey Cleveland Browns \",,70.0,http://images.acmesports.sports/Nike+Youth+Home+Game+Jersey+Cleveland+Browns+Johnny+Manziel...\n",
      "1340,59,\"Majestic Men's Replica Texas Rangers Russell \",,69.97,http://images.acmesports.sports/Majestic+Men%27s+Replica+Texas+Rangers+Russell+Wilson+%233+Home...\n"
     ]
    }
   ],
   "source": [
    "products = sc.textFile(\"retail_db/products\") \n",
    "filteredProducts = products.filter(lambda p: p.split(\",\")[4] != \"\")\n",
    "\n",
    "productsMap = filteredProducts.map \\\n",
    "              (lambda p: (int(p.split(\",\")[1]) , p))\n",
    "\n",
    "productsGroupByCategoryId = productsMap.groupByKey();\n",
    "\n",
    "\n",
    "\n",
    "def getTopNPricedProduct(productsGroupByCategory , topN):\n",
    "    sortedProducts = sorted(productsGroupByCategory[1],key=lambda k: float(k.split(\",\")[4]),reverse=True )\n",
    "    sortedProductsMap = map(lambda m:float(m.split(\",\")[4]),sortedProducts)\n",
    "    topNPrices = sorted(set(sortedProductsMap),reverse=True )[:3]\n",
    "    import itertools as it\n",
    "    return it.takewhile(lambda k: float(k.split(\",\")[4]) in topNPrices, sortedProducts )\n",
    "\n",
    "#test function with single value\n",
    "#t = productsGroupByCategoryId.filter(lambda p: p[0] == 59).first()\n",
    "#result = list(getTopNPricedProduct(t,3))\n",
    "#for i in result:\n",
    "#    print i\n",
    "\n",
    "topNPricedProduct = productsGroupByCategoryId.flatMap(lambda p: getTopNPricedProduct(p,3))\n",
    "\n",
    "#for i in topNPricedProduct.take(100):print i\n",
    "\n",
    "#help(it)\n",
    "#help(it.takewhile)\n",
    "\n",
    " \n",
    "#help(sorted)\n"
   ]
  },
  {
   "cell_type": "code",
   "execution_count": null,
   "metadata": {},
   "outputs": [],
   "source": []
  },
  {
   "cell_type": "code",
   "execution_count": null,
   "metadata": {},
   "outputs": [],
   "source": []
  }
 ],
 "metadata": {
  "kernelspec": {
   "display_name": "Python 2",
   "language": "python",
   "name": "python2"
  },
  "language_info": {
   "codemirror_mode": {
    "name": "ipython",
    "version": 2
   },
   "file_extension": ".py",
   "mimetype": "text/x-python",
   "name": "python",
   "nbconvert_exporter": "python",
   "pygments_lexer": "ipython2",
   "version": "2.7.15rc1"
  }
 },
 "nbformat": 4,
 "nbformat_minor": 2
}
