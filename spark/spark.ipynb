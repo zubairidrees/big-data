{
 "cells": [
  {
   "cell_type": "code",
   "execution_count": 14,
   "metadata": {},
   "outputs": [
    {
     "data": {
      "text/plain": [
       "<pyspark.context.SparkContext at 0x7f1b44f4bd90>"
      ]
     },
     "execution_count": 14,
     "metadata": {},
     "output_type": "execute_result"
    }
   ],
   "source": [
    "sc\n"
   ]
  },
  {
   "cell_type": "code",
   "execution_count": 15,
   "metadata": {},
   "outputs": [],
   "source": [
    "orderItems = sc.textFile(\"sqoop_import/retail_db/order_items\")"
   ]
  },
  {
   "cell_type": "code",
   "execution_count": 21,
   "metadata": {},
   "outputs": [
    {
     "name": "stdout",
     "output_type": "stream",
     "text": [
      "[u'1,1,957,1,299.98,299.98']\n"
     ]
    }
   ],
   "source": [
    "print(orderItems.take(1))\n",
    "\n",
    "orderItemsMap = orderItems.map( lambda oi: (float(oi.split(\",\")[1]) ,  float(oi.split(\",\")[4])))"
   ]
  },
  {
   "cell_type": "markdown",
   "metadata": {},
   "source": [
    "orderItemsMap = orderItems.map( lambda a: a.split(\",\")[4])"
   ]
  },
  {
   "cell_type": "code",
   "execution_count": 17,
   "metadata": {},
   "outputs": [],
   "source": [
    "reducedOrderItems = orderItemsMap.reduceByKey(lambda curr , next: curr + next)\n"
   ]
  },
  {
   "cell_type": "code",
   "execution_count": 24,
   "metadata": {},
   "outputs": [
    {
     "name": "stdout",
     "output_type": "stream",
     "text": [
      "(32768.0, 1029.94)\n"
     ]
    }
   ],
   "source": [
    "for s in reducedOrderItems.take(1): print(s)"
   ]
  },
  {
   "cell_type": "code",
   "execution_count": 63,
   "metadata": {},
   "outputs": [
    {
     "data": {
      "text/plain": [
       "pyspark.rdd.RDD"
      ]
     },
     "execution_count": 63,
     "metadata": {},
     "output_type": "execute_result"
    }
   ],
   "source": [
    "l = range(1,10000)\n",
    "lRDD = sc.parallelize(l)\n",
    "type(lRDD)"
   ]
  },
  {
   "cell_type": "code",
   "execution_count": null,
   "metadata": {},
   "outputs": [],
   "source": [
    "productsRaw = open(\"/home/zubairidrees/hadoop-2.7.3/data/retail_db/products/part-00000\").read().splitlines()\n",
    "print type(productsRaw)\n",
    "productsRDD = sc.parallelize(productsRaw)\n",
    "productsRDD.take(1)"
   ]
  },
  {
   "cell_type": "code",
   "execution_count": 200,
   "metadata": {},
   "outputs": [
    {
     "data": {
      "text/plain": [
       "<pyspark.sql.context.SQLContext at 0x7fec4da0dfd0>"
      ]
     },
     "execution_count": 200,
     "metadata": {},
     "output_type": "execute_result"
    }
   ],
   "source": [
    "sqlContext\n",
    "help(sqlContext)"
   ]
  },
  {
   "cell_type": "code",
   "execution_count": 199,
   "metadata": {},
   "outputs": [],
   "source": [
    "#spark 1.6\n",
    "#sqlContext.load(\"/retail_db_json/order_items\",\"json\").show()\n",
    "\n",
    "#spark 2\n",
    "spark.read.load(\"/user/zubairidrees/retail_db/json/retail_db_json/order_items\", format=\"json\").show()\n",
    "\n",
    "#sqlContext.read.json(\"/user/zubairidrees/retail_db/json/retail_db_json/order_items/part-r-00000-6b83977e-3f20-404b-9b5f-29376ab1419e\").show()\n",
    "spark.read.json(\"/user/zubairidrees/retail_db/json/retail_db_json/order_items\").show()\n"
   ]
  },
  {
   "cell_type": "markdown",
   "metadata": {},
   "source": [
    "## String Manipulation\n"
   ]
  },
  {
   "cell_type": "code",
   "execution_count": 87,
   "metadata": {},
   "outputs": [
    {
     "data": {
      "text/plain": [
       "[u'1,2013-07-25 00:00:00.0,11599,CLOSED']"
      ]
     },
     "execution_count": 87,
     "metadata": {},
     "output_type": "execute_result"
    }
   ],
   "source": [
    "orders = sc.textFile(\"retail_db/retail_db/orders\")\n",
    "orders.take(1)"
   ]
  },
  {
   "cell_type": "code",
   "execution_count": 102,
   "metadata": {},
   "outputs": [
    {
     "name": "stdout",
     "output_type": "stream",
     "text": [
      "Concat String with int1\n"
     ]
    },
    {
     "data": {
      "text/plain": [
       "u'20130725'"
      ]
     },
     "execution_count": 102,
     "metadata": {},
     "output_type": "execute_result"
    }
   ],
   "source": [
    "s = orders.first()\n",
    "type(s)\n",
    "s[2:13]\n",
    "len(s)\n",
    "print(\"Concat String with int\" + str(1))\n",
    "\n",
    "\n"
   ]
  },
  {
   "cell_type": "markdown",
   "metadata": {},
   "source": [
    "## Convert Date YYYY-MM-DD into YYYYMMDD\n",
    "\n"
   ]
  },
  {
   "cell_type": "code",
   "execution_count": 103,
   "metadata": {},
   "outputs": [
    {
     "data": {
      "text/plain": [
       "u'20130725'"
      ]
     },
     "execution_count": 103,
     "metadata": {},
     "output_type": "execute_result"
    }
   ],
   "source": [
    "s.split(\",\")[1].split(\" \")[0].replace(\"-\",\"\")"
   ]
  },
  {
   "cell_type": "markdown",
   "metadata": {},
   "source": [
    "## map "
   ]
  },
  {
   "cell_type": "code",
   "execution_count": 203,
   "metadata": {},
   "outputs": [
    {
     "data": {
      "text/plain": [
       "[(1, 299.98)]"
      ]
     },
     "execution_count": 203,
     "metadata": {},
     "output_type": "execute_result"
    }
   ],
   "source": [
    "orders = sc.textFile(\"retail_db/retail_db/orders\")\n",
    "orders.map(lambda o: o.split(\",\")[1].split(\" \")[0].replace(\"-\",\"\")).take(10)\n",
    "orders.map(lambda o: o.split(\",\")[1].split(\" \")[0].replace(\"-\",\"\")).count()\n",
    "\n",
    "orderItems = sc.textFile(\"retail_db/retail_db/order_items\")\n",
    "orderItems.first()\n",
    "orderItems.map(lambda oi:( int(oi.split(\",\")[1]),float(oi.split(\",\")[5]) )).take(1)\n"
   ]
  },
  {
   "cell_type": "markdown",
   "metadata": {},
   "source": [
    "## flatMap"
   ]
  },
  {
   "cell_type": "code",
   "execution_count": 136,
   "metadata": {},
   "outputs": [
    {
     "name": "stdout",
     "output_type": "stream",
     "text": [
      "['How', 'are', 'you']\n",
      "['where', 'are', 'you']\n",
      "['How', 'is', 'the', 'things', 'going']\n",
      "How\n",
      "are\n",
      "you\n",
      "where\n",
      "are\n",
      "you\n",
      "How\n",
      "is\n",
      "the\n",
      "things\n",
      "going\n"
     ]
    }
   ],
   "source": [
    "linesList = [\"How are you\",\"where are you\",\"How is the things going\"]\n",
    "linesRDD = sc.parallelize(linesList)\n",
    "\n",
    "linesMap = linesRDD.map(lambda l :l.split(\" \")).collect()\n",
    "for i in linesMap: print i\n",
    "\n",
    "linesFlatMap = linesRDD.flatMap(lambda l :l.split(\" \")).collect()\n",
    "for i in linesFlatMap: print i\n",
    "\n"
   ]
  },
  {
   "cell_type": "markdown",
   "metadata": {},
   "source": [
    "## filter"
   ]
  },
  {
   "cell_type": "code",
   "execution_count": 204,
   "metadata": {},
   "outputs": [
    {
     "name": "stdout",
     "output_type": "stream",
     "text": [
      "1,2013-07-25 00:00:00.0,11599,CLOSED\n",
      "25882,2014-01-01 00:00:00.0,4598,COMPLETE\n"
     ]
    }
   ],
   "source": [
    "orders = sc.textFile(\"retail_db/retail_db/orders\")\n",
    "\n",
    "ordersCompleted = orders.filter(lambda o: o.split(\",\")[3] == \"COMPLETE\" or o.split(\",\")[3] == \"CLOSED\").take(1)\n",
    "for i in ordersCompleted: print i\n",
    "    \n",
    "    \n",
    "#filter records of year 2014\n",
    "\n",
    "orders2014 = orders.filter(lambda o: \n",
    "                           (o.split(\",\")[3] in [ \"COMPLETE\", \"CLOSED\"]) and\n",
    "                           o.split(\",\")[1].split(\"-\")[0] == \"2014\").take(1)\n",
    "for i in orders2014: print i\n"
   ]
  },
  {
   "cell_type": "markdown",
   "metadata": {},
   "source": [
    "## Join"
   ]
  },
  {
   "cell_type": "code",
   "execution_count": 179,
   "metadata": {},
   "outputs": [
    {
     "name": "stdout",
     "output_type": "stream",
     "text": [
      "11452\n",
      "(43692, (u'PENDING_PAYMENT', None))\n"
     ]
    }
   ],
   "source": [
    "orders = sc.textFile(\"retail_db/retail_db/orders\")\n",
    "orderItems = sc.textFile(\"retail_db/retail_db/order_items\")\n",
    "\n",
    "ordersMap = orders.map(lambda o: (int(o.split(\",\")[0]) ,o.split(\",\")[3] ))\n",
    "\n",
    "orderItemsMap = orderItems.map(lambda oi: (int(oi.split(\",\")[1]) ,float(oi.split(\",\")[4]) ))\n",
    "\n",
    "ordersJoin = ordersMap.join(orderItemsMap)\n",
    "\n",
    "\n",
    "ordersLeftoin = ordersMap.leftOuterJoin(orderItemsMap)\n",
    "\n",
    "orderOuterLeftJoinFilter = ordersLeftoin.filter(lambda o: o[1][1] == None)\n",
    "print orderOuterLeftJoinFilter.count()\n",
    "for i in orderOuterLeftJoinFilter.take(1): print i\n"
   ]
  },
  {
   "cell_type": "markdown",
   "metadata": {},
   "source": [
    "## Reduce"
   ]
  },
  {
   "cell_type": "code",
   "execution_count": 198,
   "metadata": {},
   "outputs": [
    {
     "name": "stdout",
     "output_type": "stream",
     "text": [
      "579.98\n",
      "579.98\n",
      "129.99\n"
     ]
    }
   ],
   "source": [
    "orderItems = sc.textFile(\"retail_db/retail_db/order_items\")\n",
    "orderItemsFiltered = orderItems.filter(lambda oi: int(oi.split(\",\")[1]) == 2)\n",
    "\n",
    "\n",
    "orderItemsMap = orderItemsFiltered.map(lambda oi: float(oi.split(\",\")[4])) \n",
    "#for i in orderItemsMap.take(3): print i  \n",
    "orderItemsReduced = orderItemsMap.reduce(lambda curr , next : curr + next)\n",
    "print orderItemsReduced\n",
    "\n",
    "## using operator\n",
    "from operator import add\n",
    "orderItemsReduced = orderItemsMap.reduce(add)\n",
    "print orderItemsReduced\n",
    "\n",
    "##using if else in reduce\n",
    "##Find provided order id order item detail having minimum sub total\n",
    "\n",
    "orderItemsReduced = orderItemsMap.reduce(lambda curr , next : next if(curr > next) else curr)\n",
    "print orderItemsReduced\n",
    "\n",
    " \n"
   ]
  },
  {
   "cell_type": "markdown",
   "metadata": {},
   "source": [
    "## ReduceByKey / CountByKey / AggregateByKey"
   ]
  },
  {
   "cell_type": "markdown",
   "metadata": {},
   "source": [
    "# Count By Status"
   ]
  },
  {
   "cell_type": "code",
   "execution_count": 210,
   "metadata": {},
   "outputs": [
    {
     "name": "stdout",
     "output_type": "stream",
     "text": [
      "1,2013-07-25 00:00:00.0,11599,CLOSED\n",
      "(u'CLOSED', 1)\n",
      "defaultdict(<type 'int'>, {u'COMPLETE': 22899, u'PAYMENT_REVIEW': 729, u'PROCESSING': 8275, u'CANCELED': 1428, u'PENDING': 7610, u'CLOSED': 7556, u'PENDING_PAYMENT': 15030, u'SUSPECTED_FRAUD': 1558, u'ON_HOLD': 3798})\n"
     ]
    }
   ],
   "source": [
    "orders = sc.textFile(\"retail_db/retail_db/orders\")\n",
    "for i in orders.take(1):print i\n",
    "ordersStatusMap = orders.map(lambda o: (o.split(\",\")[3], 1) )\n",
    "for i in ordersStatusMap.take(1): print i\n",
    "    \n",
    "orderStatusCount = ordersStatusMap.countByKey();\n",
    "print orderStatusCount\n"
   ]
  },
  {
   "cell_type": "markdown",
   "metadata": {},
   "source": [
    "#### groupByKey don't use combiner & thats why iit is slow compare to reduceByKey & aggregateByKey\n",
    "#### groupByKey\n",
    "#### sum of (1-1000) -> 1 + 2 + 3 + 4 + 5 + 6 ......\n",
    "\n",
    "#### reduceByKey & aggregateByKey\n",
    "#### sum of (1-1000) -> sum(1,25) + sum(26,50)...\n",
    "\n",
    "#### in case of average we can't use reduceByKey & aggregateByKey in place of groupByKey as result will be\n",
    "#### different so if result of reduceByKey/aggregateByKey is same then only use it\n",
    "\n",
    "#### reduceByKey take one function & aggregateByKey take 2 functions one is for computing the intermidiate value & other for final value\n",
    "\n",
    "#### if reducer & combinor  is same then use reduceByKey\n",
    "\n",
    "\n"
   ]
  },
  {
   "cell_type": "markdown",
   "metadata": {},
   "source": [
    "#Get Revenue for each order_id\n",
    "\n",
    "\n",
    "orderItems = sc.textFile(\"retail_db/retail_db/order_items\")\n",
    "#for i in orderItems.take(1):print i\n",
    "\n",
    "orderItemsMap = orderItems.map(lambda oi: (int(oi.split(\",\")[1]), float(oi.split(\",\")[4])) )\n",
    "for i in orderItemsMap.take(2):print i\n",
    "    \n",
    "orderItemsGroupByKey = orderItemsMap.groupByKey();\n",
    "#print orderItemsGroupByKey.first()[1]\n",
    "\n",
    "print \"group by\"\n",
    "\n",
    "for i in orderItemsGroupByKey.take(2): \n",
    "    orderItemsGroupByKey\n",
    "\n",
    "revenueByOrderIdMap = orderItemsGroupByKey.map(lambda oi: ( oi[0], sum(oi[1]) ) )\n",
    "\n",
    "for i in revenueByOrderIdMap.collect():\n",
    "    if(i[0] == 7):\n",
    "        print i\n",
    "    "
   ]
  },
  {
   "cell_type": "code",
   "execution_count": 1,
   "metadata": {},
   "outputs": [
    {
     "name": "stdout",
     "output_type": "stream",
     "text": [
      "('\\xc2\\xa3', 140)\n"
     ]
    }
   ],
   "source": [
    "cost = [['Lounge', 70], ['Kitchen', 70]]\n",
    "print(\"£\", sum(c[1] for c in cost))\n"
   ]
  },
  {
   "cell_type": "code",
   "execution_count": 2,
   "metadata": {
    "scrolled": true
   },
   "outputs": [
    {
     "name": "stdout",
     "output_type": "stream",
     "text": [
      "1,1,957,1,299.98,299.98\n",
      "order items group by key\n",
      "11542\n",
      "[u'28860,11542,1014,1,49.98,49.98', u'28861,11542,365,4,239.96,59.99', u'28862,11542,627,2,79.98,39.99', u'28863,11542,191,5,499.95,99.99', u'28864,11542,1014,3,149.94,49.98']\n",
      "11540\n",
      "[u'28855,11540,627,4,159.96,39.99', u'28856,11540,1014,2,99.96,49.98']\n",
      "11546\n",
      "[u'28867,11546,1004,1,399.98,399.98']\n",
      "sorted order item group by key\n",
      "28863,11542,191,5,499.95,99.99\n",
      "28861,11542,365,4,239.96,59.99\n",
      "28864,11542,1014,3,149.94,49.98\n",
      "28862,11542,627,2,79.98,39.99\n",
      "28860,11542,1014,1,49.98,49.98\n",
      "28855,11540,627,4,159.96,39.99\n",
      "28856,11540,1014,2,99.96,49.98\n",
      "28867,11546,1004,1,399.98,399.98\n",
      "28865,11544,1073,1,199.99,199.99\n",
      "28866,11544,1014,4,199.92,49.98\n"
     ]
    }
   ],
   "source": [
    "###Get order item detail for each order id in decending order by revenue\n",
    "orderItems = sc.textFile(\"retail_db/retail_db/order_items\")\n",
    "print orderItems.first()\n",
    "orderItemsMap = orderItems.map(lambda oi: (oi.split(\",\")[1], oi))\n",
    "\n",
    "    \n",
    "orderItemsGroupByOrderId = orderItemsMap.groupByKey()\n",
    "print \"order items group by key\"\n",
    "for i in orderItemsGroupByOrderId.take(3): \n",
    "    print (i[0])\n",
    "    g = list(i[1])\n",
    "    print g\n",
    "\n",
    "#l = orderItemsGroupByOrderId.first();\n",
    "#list(l[1])\n",
    "\n",
    "orderItemSortedBySubtotalPerOrderId = orderItemsGroupByOrderId.flatMap \\\n",
    "(lambda oi:sorted(oi[1],key=lambda k: float(k.split(\",\")[4]),reverse=True) ) \n",
    "#help(sorted)\n",
    "\n",
    "print \"sorted order item group by key\"\n",
    "for i in orderItemSortedBySubtotalPerOrderId.take(10): print i\n",
    "\n"
   ]
  },
  {
   "cell_type": "markdown",
   "metadata": {},
   "source": [
    "### reduceBYKey"
   ]
  },
  {
   "cell_type": "code",
   "execution_count": 14,
   "metadata": {},
   "outputs": [
    {
     "name": "stdout",
     "output_type": "stream",
     "text": [
      "Max value per order id\n",
      "(2, 579.98)\n",
      "(4, 699.85)\n",
      "(8, 729.8399999999999)\n",
      "******************************\n",
      "Max value per order id using add operator\n",
      "(2, 579.98)\n",
      "(4, 699.85)\n",
      "(8, 729.8399999999999)\n",
      "******************************\n",
      "Min value per order id\n",
      "(2, 129.99)\n",
      "(4, 49.98)\n",
      "(8, 50.0)\n",
      "******************************\n",
      "(1, u'1,1,957,1,299.98,299.98')\n",
      "(2, u'2,2,1073,1,199.99,199.99')\n",
      "(2, u'3,2,502,5,250.0,50.0')\n"
     ]
    }
   ],
   "source": [
    "orderItems = sc.textFile(\"retail_db/retail_db/order_items\")\n",
    "orderItemsMap = orderItems.map(lambda oi: (int(oi.split(\",\")[1]), float(oi.split(\",\")[4])))\n",
    "\n",
    "#for i in orderItemsMap.take(5):print i\n",
    "print \"Sum of all order items by order id\"    \n",
    "orderItemsReduceByKey = orderItemsMap.reduceByKey(lambda x,y: x+y)    \n",
    "\n",
    "for i in orderItemsReduceByKey.take(3):print i\n",
    "\n",
    "print \"*\"*30      \n",
    "print \"Sum of all order items by using add operator\"    \n",
    "from operator import add\n",
    "orderItemsReduceByKey = orderItemsMap.reduceByKey(add)\n",
    "for i in orderItemsReduceByKey.take(3):print i\n",
    "\n",
    "print \"*\"*30    \n",
    "print \"Min value per order id\"    \n",
    "orderItemsReduceByKey = orderItemsMap.reduceByKey(lambda x,y : x if( x < y) else y)\n",
    "for i in orderItemsReduceByKey.take(3):print i\n",
    "    \n"
   ]
  },
  {
   "cell_type": "markdown",
   "metadata": {},
   "source": [
    "### aggregateByKey\n"
   ]
  },
  {
   "cell_type": "code",
   "execution_count": 28,
   "metadata": {},
   "outputs": [
    {
     "name": "stdout",
     "output_type": "stream",
     "text": [
      "(2, (579.98, 3))\n",
      "(4, (699.85, 4))\n",
      "(8, (729.8399999999999, 4))\n",
      "(10, (651.9200000000001, 5))\n",
      "(12, (1299.8700000000001, 5))\n"
     ]
    }
   ],
   "source": [
    "#Get order items count & total revenue per order\n",
    "\n",
    "#As we already formated data using map like (order id, subtotal) or we can name it (oi,subtotal)\n",
    "#                                           ( 1      ,  299.98)\n",
    "\n",
    "# Our desired output is like (orderId,( sum[subtotal order], count order items in a order))\n",
    "# (2,(579.98, 3)) name it ( oi,  ( total , count) )\n",
    "\n",
    "# aggregateByKey(\n",
    "#               (initial val of total , initial val of count ) ,\n",
    "#               (lamdba ('total' last val , 'count' last val) , subtotal ),\n",
    "#               (lambda (('total' last val , 'count' last val) , subtotal ), (('total' last val , 'count' last val) , subtotal ) \n",
    "#\n",
    "\n",
    "# aggregateByKey( initialize value, intermidiator logic , combinor logic )\n",
    "\n",
    "# Input\n",
    "# (2,300)\n",
    "# (2,500)\n",
    "# (2,100)\n",
    "# (2,5)\n",
    "\n",
    "# Requried Output(2, (950,4) )\n",
    "# initiaze (0.0 , 0 ) (0.0 initial value of total, 0 initial value of count)\n",
    "\n",
    "# In aggregate intermiator we have to define logic to add  initiaze + given input\n",
    "# (2,300)\n",
    "# (2,500)\n",
    "# --------\n",
    "# (800,2) name it as s\n",
    "# --------\n",
    "\n",
    "orderItems = sc.textFile(\"retail_db/retail_db/order_items\")\n",
    "orderItemsMap = orderItems.map(lambda oi: (int(oi.split(\",\")[1]), float(oi.split(\",\")[4])))\n",
    "orderItemsAggregate = orderItemsMap.aggregateByKey( \\\n",
    "                             (0.0,0), \\\n",
    "                             (lambda x,y : (x[0] + y ,x[1] + 1 ) ),\\\n",
    "                             (lambda a,b : ( (a[0] + b[0]), a[1],b[1] ) ) \\\n",
    "                            )\n",
    "for i in orderItemsAggregate.take(5): print i\n",
    "#help(orderItemsMap.aggregateByKey)\n",
    "\n",
    "# (2,100)\n",
    "# (2,50)\n",
    "# -----\n",
    "# (150,3) name it as q\n",
    "# --------\n",
    "# In aggregate combinor define logic to add results of intermiator outputs belongs to one same key\n",
    "#  s + q \n",
    "# (800,2)\n",
    "# (150,3)\n",
    "# (950,5)\n",
    "\n",
    "\n",
    "\n"
   ]
  },
  {
   "cell_type": "markdown",
   "metadata": {},
   "source": [
    "## Sorting \n",
    "#### Get products price in desecding order"
   ]
  },
  {
   "cell_type": "code",
   "execution_count": 43,
   "metadata": {},
   "outputs": [
    {
     "name": "stdout",
     "output_type": "stream",
     "text": [
      "208,10,SOLE E35 Elliptical,,1999.99,http://images.acmesports.sports/SOLE+E35+Elliptical\n",
      "66,4,SOLE F85 Treadmill,,1799.99,http://images.acmesports.sports/SOLE+F85+Treadmill\n",
      "199,10,SOLE F85 Treadmill,,1799.99,http://images.acmesports.sports/SOLE+F85+Treadmill\n"
     ]
    }
   ],
   "source": [
    "products = sc.textFile(\"retail_db/retail_db/products\")\n",
    "#for i in products.take(2): print i\n",
    "\n",
    "#print products.count()   \n",
    "\n",
    "# filter invalid records\n",
    "filteredProducts = products.filter(lambda p: p.split(\",\")[4] != \"\")\n",
    "\n",
    "#print filteredProducts.count()\n",
    "#for i in filteredProducts.take(2): print i    \n",
    "    \n",
    "productsMap = filteredProducts.map(lambda p: (float(p.split(\",\")[4]), p))\n",
    "#for i in productsMap.take(2): print i\n",
    "\n",
    "\n",
    "sortedProducts =   productsMap.sortByKey(False)\n",
    "#for i in sortedProducts.take(3): print i\n",
    "    \n",
    "sortedProductsMap = sortedProducts.map(\\\n",
    "                                       lambda x : x[1])\n",
    "\n",
    "for i in sortedProductsMap.take(3): print i"
   ]
  },
  {
   "cell_type": "markdown",
   "metadata": {},
   "source": [
    "### Sort data using combined key\n",
    "### by product category & then product price desending"
   ]
  },
  {
   "cell_type": "code",
   "execution_count": 68,
   "metadata": {},
   "outputs": [
    {
     "name": "stdout",
     "output_type": "stream",
     "text": [
      "16,2,Riddell Youth 360 Custom Football Helmet,,299.99,http://images.acmesports.sports/Riddell+Youth+360+Custom+Football+Helmet\n",
      "11,2,Fitness Gear 300 lb Olympic Weight Set,,209.99,http://images.acmesports.sports/Fitness+Gear+300+lb+Olympic+Weight+Set\n",
      "5,2,Riddell Youth Revolution Speed Custom Footbal,,199.99,http://images.acmesports.sports/Riddell+Youth+Revolution+Speed+Custom+Football+Helmet\n",
      "14,2,Quik Shade Summit SX170 10 FT. x 10 FT. Canop,,199.99,http://images.acmesports.sports/Quik+Shade+Summit+SX170+10+FT.+x+10+FT.+Canopy\n",
      "12,2,Under Armour Men's Highlight MC Alter Ego Fla,,139.99,http://images.acmesports.sports/Under+Armour+Men%27s+Highlight+MC+Alter+Ego+Flash+Football...\n",
      "23,2,Under Armour Men's Highlight MC Alter Ego Hul,,139.99,http://images.acmesports.sports/Under+Armour+Men%27s+Highlight+MC+Alter+Ego+Hulk+Football...\n",
      "6,2,Jordan Men's VI Retro TD Football Cleat,,134.99,http://images.acmesports.sports/Jordan+Men%27s+VI+Retro+TD+Football+Cleat\n",
      "2,2,Under Armour Men's Highlight MC Football Clea,,129.99,http://images.acmesports.sports/Under+Armour+Men%27s+Highlight+MC+Football+Cleat\n",
      "8,2,Nike Men's Vapor Carbon Elite TD Football Cle,,129.99,http://images.acmesports.sports/Nike+Men%27s+Vapor+Carbon+Elite+TD+Football+Cleat\n",
      "10,2,Under Armour Men's Highlight MC Football Clea,,129.99,http://images.acmesports.sports/Under+Armour+Men%27s+Highlight+MC+Football+Cleat\n"
     ]
    }
   ],
   "source": [
    "products = sc.textFile(\"retail_db/retail_db/products\")\n",
    "#for i in products.take(1): print i\n",
    "\n",
    "# filter invalid records\n",
    "filteredProducts = products.filter(lambda p: p.split(\",\")[4] != \"\")\n",
    "\n",
    "# product price ascending\n",
    "productsMapAscending = filteredProducts.map(lambda p: ( \\\n",
    "                                            (int(p.split(\",\")[1]) , float(p.split(\",\")[4] ))  , \\\n",
    "                                             p ) \\\n",
    "                                  ) \n",
    "                 \n",
    "sortedProductByCategory = productsMapAscending.sortByKey()    \n",
    "#for i in sortedProductByCategory.take(1):print i\n",
    "    \n",
    "productsMapDesending = filteredProducts.map(lambda p: ( \\\n",
    "                                            (int(p.split(\",\")[1]) , -float(p.split(\",\")[4] ))  , \\\n",
    "                                             p ) \\\n",
    "                                  )     \n",
    "\n",
    "sortedProductByCategory = productsMapDesending.sortByKey().map(lambda p: p[1])      \n",
    "for i in sortedProductByCategory.take(10):print i\n",
    "    \n",
    "    \n",
    "    \n",
    "# (categoryId ,price) p)\n",
    "\n",
    "\n",
    "#help(productsMap.reduceByKey)    \n",
    "    "
   ]
  },
  {
   "cell_type": "code",
   "execution_count": null,
   "metadata": {},
   "outputs": [],
   "source": []
  }
 ],
 "metadata": {
  "kernelspec": {
   "display_name": "Python 2",
   "language": "python",
   "name": "python2"
  },
  "language_info": {
   "codemirror_mode": {
    "name": "ipython",
    "version": 2
   },
   "file_extension": ".py",
   "mimetype": "text/x-python",
   "name": "python",
   "nbconvert_exporter": "python",
   "pygments_lexer": "ipython2",
   "version": "2.7.15rc1"
  }
 },
 "nbformat": 4,
 "nbformat_minor": 2
}
